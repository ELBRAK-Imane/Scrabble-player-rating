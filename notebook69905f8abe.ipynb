{
 "cells": [
  {
   "cell_type": "code",
   "execution_count": 1,
   "id": "ea34e2c4",
   "metadata": {
    "_cell_guid": "b1076dfc-b9ad-4769-8c92-a6c4dae69d19",
    "_uuid": "8f2839f25d086af736a60e9eeb907d3b93b6e0e5",
    "execution": {
     "iopub.execute_input": "2023-01-03T08:54:11.402263Z",
     "iopub.status.busy": "2023-01-03T08:54:11.401810Z",
     "iopub.status.idle": "2023-01-03T08:54:11.441391Z",
     "shell.execute_reply": "2023-01-03T08:54:11.440503Z"
    },
    "papermill": {
     "duration": 0.049097,
     "end_time": "2023-01-03T08:54:11.443384",
     "exception": false,
     "start_time": "2023-01-03T08:54:11.394287",
     "status": "completed"
    },
    "tags": []
   },
   "outputs": [],
   "source": [
    "# This Python 3 environment comes with many helpful analytics libraries installed\n",
    "# It is defined by the kaggle/python Docker image: https://github.com/kaggle/docker-python\n",
    "# For example, here's several helpful packages to load\n",
    "\n",
    "import numpy as np # linear algebra\n",
    "import pandas as pd # data processing, CSV file I/O (e.g. pd.read_csv)\n",
    "\n",
    "# Input data files are available in the read-only \"../input/\" directory\n",
    "# For example, running this (by clicking run or pressing Shift+Enter) will list all files under the input directory\n",
    "\n",
    "import os\n",
    "for dirname, _, filenames in os.walk('/kaggle/input'):\n",
    "    for filename in filenames:\n",
    "        print(os.path.join(dirname, filename))\n",
    "\n",
    "# You can write up to 20GB to the current directory (/kaggle/working/) that gets preserved as output when you create a version using \"Save & Run All\" \n",
    "# You can also write temporary files to /kaggle/temp/, but they won't be saved outside of the current session"
   ]
  },
  {
   "cell_type": "code",
   "execution_count": 2,
   "id": "6f9963fc",
   "metadata": {
    "execution": {
     "iopub.execute_input": "2023-01-03T08:54:11.455603Z",
     "iopub.status.busy": "2023-01-03T08:54:11.455058Z",
     "iopub.status.idle": "2023-01-03T08:54:13.680442Z",
     "shell.execute_reply": "2023-01-03T08:54:13.679189Z"
    },
    "papermill": {
     "duration": 2.234017,
     "end_time": "2023-01-03T08:54:13.682782",
     "exception": false,
     "start_time": "2023-01-03T08:54:11.448765",
     "status": "completed"
    },
    "tags": []
   },
   "outputs": [
    {
     "ename": "ModuleNotFoundError",
     "evalue": "No module named 'lightgbm'",
     "output_type": "error",
     "traceback": [
      "\u001b[1;31m---------------------------------------------------------------------------\u001b[0m",
      "\u001b[1;31mModuleNotFoundError\u001b[0m                       Traceback (most recent call last)",
      "\u001b[1;32mC:\\Users\\SOUFIA~1\\AppData\\Local\\Temp/ipykernel_16772/805080043.py\u001b[0m in \u001b[0;36m<module>\u001b[1;34m\u001b[0m\n\u001b[0;32m     11\u001b[0m \u001b[1;32mimport\u001b[0m \u001b[0mmatplotlib\u001b[0m\u001b[1;33m.\u001b[0m\u001b[0mpyplot\u001b[0m \u001b[1;32mas\u001b[0m \u001b[0mplt\u001b[0m\u001b[1;33m\u001b[0m\u001b[1;33m\u001b[0m\u001b[0m\n\u001b[0;32m     12\u001b[0m \u001b[1;32mimport\u001b[0m \u001b[0mseaborn\u001b[0m \u001b[1;32mas\u001b[0m \u001b[0msns\u001b[0m\u001b[1;33m\u001b[0m\u001b[1;33m\u001b[0m\u001b[0m\n\u001b[1;32m---> 13\u001b[1;33m \u001b[1;32mimport\u001b[0m \u001b[0mlightgbm\u001b[0m \u001b[1;32mas\u001b[0m \u001b[0mlgb\u001b[0m\u001b[1;33m\u001b[0m\u001b[1;33m\u001b[0m\u001b[0m\n\u001b[0m",
      "\u001b[1;31mModuleNotFoundError\u001b[0m: No module named 'lightgbm'"
     ]
    }
   ],
   "source": [
    "import time\n",
    "import numpy as np\n",
    "import pandas as pd\n",
    "from sklearn.preprocessing import LabelEncoder\n",
    "from sklearn.linear_model import LinearRegression, Ridge, Lasso\n",
    "from sklearn.tree import DecisionTreeRegressor\n",
    "from sklearn.ensemble import RandomForestRegressor, GradientBoostingRegressor\n",
    "from sklearn.neural_network import MLPRegressor\n",
    "from sklearn.metrics import mean_absolute_error, mean_squared_error, r2_score\n",
    "from sklearn.model_selection import KFold\n",
    "import matplotlib.pyplot as plt\n",
    "import seaborn as sns\n",
    "import lightgbm as lgb"
   ]
  },
  {
   "cell_type": "code",
   "execution_count": null,
   "id": "62fa72ff",
   "metadata": {
    "execution": {
     "iopub.execute_input": "2023-01-03T08:54:13.695895Z",
     "iopub.status.busy": "2023-01-03T08:54:13.695134Z",
     "iopub.status.idle": "2023-01-03T08:54:13.721594Z",
     "shell.execute_reply": "2023-01-03T08:54:13.720603Z"
    },
    "papermill": {
     "duration": 0.035288,
     "end_time": "2023-01-03T08:54:13.724054",
     "exception": false,
     "start_time": "2023-01-03T08:54:13.688766",
     "status": "completed"
    },
    "tags": []
   },
   "outputs": [],
   "source": [
    "sub = pd.read_csv('../input/scrabble-player-rating/sample_submission.csv')"
   ]
  },
  {
   "cell_type": "code",
   "execution_count": null,
   "id": "f541ece9",
   "metadata": {
    "execution": {
     "iopub.execute_input": "2023-01-03T08:54:13.736251Z",
     "iopub.status.busy": "2023-01-03T08:54:13.735393Z",
     "iopub.status.idle": "2023-01-03T08:54:13.807283Z",
     "shell.execute_reply": "2023-01-03T08:54:13.806318Z"
    },
    "papermill": {
     "duration": 0.079592,
     "end_time": "2023-01-03T08:54:13.809052",
     "exception": false,
     "start_time": "2023-01-03T08:54:13.729460",
     "status": "completed"
    },
    "tags": []
   },
   "outputs": [],
   "source": [
    "train = pd.read_csv('../input/scrabble-player-rating/train.csv')\n",
    "train = train.rename(columns=str.lower)\n",
    "print(f'Shape of train: {train.shape}')"
   ]
  },
  {
   "cell_type": "code",
   "execution_count": null,
   "id": "35ed5350",
   "metadata": {
    "execution": {
     "iopub.execute_input": "2023-01-03T08:54:13.820888Z",
     "iopub.status.busy": "2023-01-03T08:54:13.820559Z",
     "iopub.status.idle": "2023-01-03T08:54:13.858424Z",
     "shell.execute_reply": "2023-01-03T08:54:13.856829Z"
    },
    "papermill": {
     "duration": 0.047471,
     "end_time": "2023-01-03T08:54:13.861747",
     "exception": false,
     "start_time": "2023-01-03T08:54:13.814276",
     "status": "completed"
    },
    "tags": []
   },
   "outputs": [],
   "source": [
    "test = pd.read_csv('../input/scrabble-player-rating/test.csv')\n",
    "test  = test.rename(columns=str.lower)\n",
    "print(f'Shape of test: {test.shape}')"
   ]
  },
  {
   "cell_type": "code",
   "execution_count": null,
   "id": "ecdbe9d3",
   "metadata": {
    "execution": {
     "iopub.execute_input": "2023-01-03T08:54:13.874808Z",
     "iopub.status.busy": "2023-01-03T08:54:13.874401Z",
     "iopub.status.idle": "2023-01-03T08:54:19.324420Z",
     "shell.execute_reply": "2023-01-03T08:54:19.323513Z"
    },
    "papermill": {
     "duration": 5.459039,
     "end_time": "2023-01-03T08:54:19.326759",
     "exception": false,
     "start_time": "2023-01-03T08:54:13.867720",
     "status": "completed"
    },
    "tags": []
   },
   "outputs": [],
   "source": [
    "turns = pd.read_csv('../input/scrabble-player-rating/turns.csv')\n",
    "turns = turns.rename(columns=str.lower)\n",
    "print(f'Shape of turns: {turns.shape}')"
   ]
  },
  {
   "cell_type": "code",
   "execution_count": null,
   "id": "5c05cfff",
   "metadata": {
    "execution": {
     "iopub.execute_input": "2023-01-03T08:54:19.339877Z",
     "iopub.status.busy": "2023-01-03T08:54:19.339537Z",
     "iopub.status.idle": "2023-01-03T08:54:19.669427Z",
     "shell.execute_reply": "2023-01-03T08:54:19.668018Z"
    },
    "papermill": {
     "duration": 0.339729,
     "end_time": "2023-01-03T08:54:19.672578",
     "exception": false,
     "start_time": "2023-01-03T08:54:19.332849",
     "status": "completed"
    },
    "tags": []
   },
   "outputs": [],
   "source": [
    "games = pd.read_csv('../input/scrabble-player-rating/games.csv')\n",
    "games = games.rename(columns=str.lower)\n",
    "print(f'Shape of games: {games.shape}')"
   ]
  },
  {
   "cell_type": "code",
   "execution_count": null,
   "id": "ba394ce1",
   "metadata": {
    "execution": {
     "iopub.execute_input": "2023-01-03T08:54:19.686396Z",
     "iopub.status.busy": "2023-01-03T08:54:19.686043Z",
     "iopub.status.idle": "2023-01-03T08:54:19.790546Z",
     "shell.execute_reply": "2023-01-03T08:54:19.788997Z"
    },
    "papermill": {
     "duration": 0.114479,
     "end_time": "2023-01-03T08:54:19.792861",
     "exception": false,
     "start_time": "2023-01-03T08:54:19.678382",
     "status": "completed"
    },
    "tags": []
   },
   "outputs": [],
   "source": [
    "brief_df = pd.concat([train, test], axis=0)\n",
    "brief_df = brief_df.sort_values([\"game_id\"])\n",
    "bots = [\"BetterBot\", \"STEEBot\", \"HastyBot\"]\n",
    "\n",
    "\n",
    "user_df = brief_df[~brief_df[\"nickname\"].isin(bots)] \n",
    "user_df = user_df.rename(\n",
    "    columns={\"nickname\": \"user_name\", \"score\": \"user_score\", \"rating\": \"user_rating\"}\n",
    ") \n",
    "bot_df = brief_df[brief_df[\"nickname\"].isin(bots)]\n",
    "\n",
    "bot_df = bot_df.rename(\n",
    "    columns={\"nickname\": \"bot_name\", \"score\": \"bot_score\", \"rating\": \"bot_rating\"}\n",
    ")\n",
    "\n",
    "main_df = pd.merge(user_df, bot_df, on=\"game_id\")\n",
    "main_df.head()"
   ]
  },
  {
   "cell_type": "code",
   "execution_count": null,
   "id": "ccb5bb7d",
   "metadata": {
    "execution": {
     "iopub.execute_input": "2023-01-03T08:54:19.806083Z",
     "iopub.status.busy": "2023-01-03T08:54:19.805655Z",
     "iopub.status.idle": "2023-01-03T08:54:19.847344Z",
     "shell.execute_reply": "2023-01-03T08:54:19.846439Z"
    },
    "papermill": {
     "duration": 0.051029,
     "end_time": "2023-01-03T08:54:19.849776",
     "exception": false,
     "start_time": "2023-01-03T08:54:19.798747",
     "status": "completed"
    },
    "tags": []
   },
   "outputs": [],
   "source": [
    "main_df[\"user_freq\"] = main_df.groupby(\"user_name\")[\"user_name\"].transform(\"count\")\n",
    "encode_bots = LabelEncoder()\n",
    "main_df[\"bot_name\"] = encode_bots.fit_transform(main_df[\"bot_name\"])\n",
    "main_df.head()"
   ]
  },
  {
   "cell_type": "code",
   "execution_count": null,
   "id": "5e3cd81c",
   "metadata": {
    "execution": {
     "iopub.execute_input": "2023-01-03T08:54:19.864735Z",
     "iopub.status.busy": "2023-01-03T08:54:19.864352Z",
     "iopub.status.idle": "2023-01-03T08:54:19.874650Z",
     "shell.execute_reply": "2023-01-03T08:54:19.873927Z"
    },
    "papermill": {
     "duration": 0.019781,
     "end_time": "2023-01-03T08:54:19.876400",
     "exception": false,
     "start_time": "2023-01-03T08:54:19.856619",
     "status": "completed"
    },
    "tags": []
   },
   "outputs": [],
   "source": [
    "missing_cols = main_df.columns[main_df.isnull().any()].tolist()\n",
    "print(f'These lables have missing data that needs to be cleaned: {missing_cols} ')"
   ]
  },
  {
   "cell_type": "code",
   "execution_count": null,
   "id": "55916662",
   "metadata": {
    "execution": {
     "iopub.execute_input": "2023-01-03T08:54:19.889125Z",
     "iopub.status.busy": "2023-01-03T08:54:19.888821Z",
     "iopub.status.idle": "2023-01-03T08:54:19.907715Z",
     "shell.execute_reply": "2023-01-03T08:54:19.906848Z"
    },
    "papermill": {
     "duration": 0.027352,
     "end_time": "2023-01-03T08:54:19.909642",
     "exception": false,
     "start_time": "2023-01-03T08:54:19.882290",
     "status": "completed"
    },
    "tags": []
   },
   "outputs": [],
   "source": [
    "train_df = main_df[~main_df['user_rating'].isna()].reset_index(drop=True)\n",
    "train_df.head()"
   ]
  },
  {
   "cell_type": "code",
   "execution_count": null,
   "id": "3463e20e",
   "metadata": {
    "execution": {
     "iopub.execute_input": "2023-01-03T08:54:19.923066Z",
     "iopub.status.busy": "2023-01-03T08:54:19.922753Z",
     "iopub.status.idle": "2023-01-03T08:54:19.936924Z",
     "shell.execute_reply": "2023-01-03T08:54:19.936029Z"
    },
    "papermill": {
     "duration": 0.022963,
     "end_time": "2023-01-03T08:54:19.938802",
     "exception": false,
     "start_time": "2023-01-03T08:54:19.915839",
     "status": "completed"
    },
    "tags": []
   },
   "outputs": [],
   "source": [
    "test_df  = main_df[main_df['user_rating'].isna()].reset_index(drop=True)\n",
    "test_df.head()"
   ]
  },
  {
   "cell_type": "code",
   "execution_count": null,
   "id": "9d02aad9",
   "metadata": {
    "execution": {
     "iopub.execute_input": "2023-01-03T08:54:19.953596Z",
     "iopub.status.busy": "2023-01-03T08:54:19.953194Z",
     "iopub.status.idle": "2023-01-03T08:54:20.169961Z",
     "shell.execute_reply": "2023-01-03T08:54:20.168852Z"
    },
    "papermill": {
     "duration": 0.227627,
     "end_time": "2023-01-03T08:54:20.172722",
     "exception": false,
     "start_time": "2023-01-03T08:54:19.945095",
     "status": "completed"
    },
    "tags": []
   },
   "outputs": [],
   "source": [
    "#The Best 30 Scrabblers by Nickname\n",
    "top_score = train.sort_values(by='score', ascending=False)[:30]\n",
    "figure = plt.figure(figsize=(10,6))\n",
    "sns.barplot(x=top_score.nickname, y=top_score.score)\n",
    "plt.xticks()\n",
    "plt.ylabel('Scrabble Scores')\n",
    "plt.xlabel('Competitor Nickname')\n",
    "plt.title('Scrabble Competitors by Scores')\n",
    "plt.show()"
   ]
  },
  {
   "cell_type": "code",
   "execution_count": null,
   "id": "7aa7cc42",
   "metadata": {
    "execution": {
     "iopub.execute_input": "2023-01-03T08:54:20.188962Z",
     "iopub.status.busy": "2023-01-03T08:54:20.188385Z",
     "iopub.status.idle": "2023-01-03T08:54:20.433471Z",
     "shell.execute_reply": "2023-01-03T08:54:20.432735Z"
    },
    "papermill": {
     "duration": 0.255633,
     "end_time": "2023-01-03T08:54:20.435366",
     "exception": false,
     "start_time": "2023-01-03T08:54:20.179733",
     "status": "completed"
    },
    "tags": []
   },
   "outputs": [],
   "source": [
    "corr = games.corr(method='pearson')\n",
    "sns.heatmap(corr)"
   ]
  },
  {
   "cell_type": "code",
   "execution_count": null,
   "id": "70d5a4bb",
   "metadata": {
    "execution": {
     "iopub.execute_input": "2023-01-03T08:54:20.451565Z",
     "iopub.status.busy": "2023-01-03T08:54:20.450964Z",
     "iopub.status.idle": "2023-01-03T08:54:20.597492Z",
     "shell.execute_reply": "2023-01-03T08:54:20.596690Z"
    },
    "papermill": {
     "duration": 0.157728,
     "end_time": "2023-01-03T08:54:20.599996",
     "exception": false,
     "start_time": "2023-01-03T08:54:20.442268",
     "status": "completed"
    },
    "tags": []
   },
   "outputs": [],
   "source": [
    "games[\"rating_mode\"].value_counts().plot.bar(figsize=(8, 6), color=['#808080', '#C0C0C0'], title='Scrabble Rating Mode');"
   ]
  },
  {
   "cell_type": "code",
   "execution_count": null,
   "id": "76c54b98",
   "metadata": {
    "execution": {
     "iopub.execute_input": "2023-01-03T08:54:20.618984Z",
     "iopub.status.busy": "2023-01-03T08:54:20.618051Z",
     "iopub.status.idle": "2023-01-03T08:54:20.624694Z",
     "shell.execute_reply": "2023-01-03T08:54:20.624060Z"
    },
    "papermill": {
     "duration": 0.017142,
     "end_time": "2023-01-03T08:54:20.626486",
     "exception": false,
     "start_time": "2023-01-03T08:54:20.609344",
     "status": "completed"
    },
    "tags": []
   },
   "outputs": [],
   "source": [
    "model_dict = {\n",
    "    \"linear\": LinearRegression(),\n",
    "    \"ridge\": Ridge(),\n",
    "    \"lasso\": Lasso(),\n",
    "    \"decision_tree\": DecisionTreeRegressor(),\n",
    "    \"random_forest\": RandomForestRegressor(),\n",
    "    \"gradient_boosting\": GradientBoostingRegressor(),\n",
    "    \"neural_network\": MLPRegressor(),\n",
    "    \"lgb\": lgb.LGBMRegressor(),\n",
    "}"
   ]
  },
  {
   "cell_type": "code",
   "execution_count": null,
   "id": "133d5ed5",
   "metadata": {
    "execution": {
     "iopub.execute_input": "2023-01-03T08:54:20.643170Z",
     "iopub.status.busy": "2023-01-03T08:54:20.641562Z",
     "iopub.status.idle": "2023-01-03T08:54:20.654501Z",
     "shell.execute_reply": "2023-01-03T08:54:20.653357Z"
    },
    "papermill": {
     "duration": 0.023286,
     "end_time": "2023-01-03T08:54:20.656820",
     "exception": false,
     "start_time": "2023-01-03T08:54:20.633534",
     "status": "completed"
    },
    "tags": []
   },
   "outputs": [],
   "source": [
    "def get_scores(model_dict, X, y, nfolds=5):\n",
    "    \"\"\"\n",
    "    This function computes the cross-validated R^2 and RMSE scores\n",
    "    for each model in model_dict on the provided training data X and y.\n",
    "\n",
    "    Args:\n",
    "        model_dict (dict): A dictionary containing the models to be evaluated, with keys as model names and values as the initialized model objects.\n",
    "        X (pandas.DataFrame): The training data on which to evaluate the models.\n",
    "        y (pandas.DataFrame): The target variable for the training data.\n",
    "        nfolds (int, optional): The number of folds to use for cross-validation. Defaults to 5.\n",
    "\n",
    "    Returns:\n",
    "        pandas.DataFrame: A dataframe containing the mean R^2 and RMSE scores for each model, computed using cross-validation.\n",
    "    \"\"\"\n",
    "    df_score_details = {\n",
    "        \"model\": [],\n",
    "        \"(R2)\": [],\n",
    "        \"(RMSE)\": [],\n",
    "        \"(MAE)\": [],\n",
    "    }  \n",
    "    for model_key in model_dict.keys():\n",
    "        val_r2_scores = []\n",
    "        val_rmse_scores = []\n",
    "        val_mae_scores = []\n",
    "        kf = KFold(n_splits=nfolds)\n",
    "        start = time.time()\n",
    "        # nfolds\n",
    "        for train_index, val_index in kf.split(X):\n",
    "            X_train, X_val = X.iloc[train_index], X.iloc[val_index]\n",
    "            y_train, y_val = y.iloc[train_index], y.iloc[val_index]\n",
    "\n",
    "            # model\n",
    "            model_cls = model_dict[model_key] # model\n",
    "            model = model_cls\n",
    "            model.fit(X_train, y_train) # X_train\n",
    "            # validation_data model\n",
    "            val_preds = model.predict(X_val).reshape(-1) # X_val\n",
    "            val_r2_scores.append(r2_score(y_val, val_preds)) \n",
    "            val_rmse_scores.append(mean_squared_error(y_val, val_preds, squared=False)) # RMSE\n",
    "            val_mae_scores.append(mean_absolute_error(y_val, val_preds)) # MAE\n",
    "        df_score_details[\"model\"].append(model_key)\n",
    "        df_score_details[\"(R2)\"].append(np.mean(val_r2_scores))\n",
    "        df_score_details[\"(RMSE)\"].append(np.mean(val_rmse_scores))\n",
    "        df_score_details[\"(MAE)\"].append(np.mean(val_mae_scores))\n",
    "        elapsed_time = time.time() - start\n",
    "        print(\"-------------------------\")\n",
    "        print(f\"model{model_key}: {df_score_details}\")\n",
    "        print(f\"{model_key} finished in {elapsed_time:.2f} seconds\")        \n",
    "        print(\"-------------------------\")\n",
    "    df_score = pd.DataFrame(df_score_details)\n",
    "    return df_score"
   ]
  },
  {
   "cell_type": "code",
   "execution_count": null,
   "id": "1980a742",
   "metadata": {
    "execution": {
     "iopub.execute_input": "2023-01-03T08:54:20.673573Z",
     "iopub.status.busy": "2023-01-03T08:54:20.672479Z",
     "iopub.status.idle": "2023-01-03T08:54:54.966385Z",
     "shell.execute_reply": "2023-01-03T08:54:54.965371Z"
    },
    "papermill": {
     "duration": 34.304186,
     "end_time": "2023-01-03T08:54:54.968357",
     "exception": false,
     "start_time": "2023-01-03T08:54:20.664171",
     "status": "completed"
    },
    "tags": []
   },
   "outputs": [],
   "source": [
    "X_train = train_df.drop([\"user_name\", \"user_rating\"], axis=1)\n",
    "y_train = train_df[\"user_rating\"].copy()\n",
    "X_test = test_df.drop([\"user_name\", \"user_rating\"], axis=1)\n",
    "# CV\n",
    "df_score = get_scores(model_dict, X_train, y_train, nfolds=2)"
   ]
  },
  {
   "cell_type": "code",
   "execution_count": null,
   "id": "8b45f711",
   "metadata": {
    "execution": {
     "iopub.execute_input": "2023-01-03T08:54:54.985061Z",
     "iopub.status.busy": "2023-01-03T08:54:54.984645Z",
     "iopub.status.idle": "2023-01-03T08:54:55.001281Z",
     "shell.execute_reply": "2023-01-03T08:54:54.999867Z"
    },
    "papermill": {
     "duration": 0.027535,
     "end_time": "2023-01-03T08:54:55.003600",
     "exception": false,
     "start_time": "2023-01-03T08:54:54.976065",
     "status": "completed"
    },
    "tags": []
   },
   "outputs": [],
   "source": [
    "df_score.sort_values(\"(RMSE)\")"
   ]
  },
  {
   "cell_type": "code",
   "execution_count": 3,
   "id": "a641dd57",
   "metadata": {
    "execution": {
     "iopub.execute_input": "2023-01-03T08:54:55.021381Z",
     "iopub.status.busy": "2023-01-03T08:54:55.021035Z",
     "iopub.status.idle": "2023-01-03T08:55:12.997942Z",
     "shell.execute_reply": "2023-01-03T08:55:12.996932Z"
    },
    "papermill": {
     "duration": 17.988199,
     "end_time": "2023-01-03T08:55:13.000447",
     "exception": false,
     "start_time": "2023-01-03T08:54:55.012248",
     "status": "completed"
    },
    "tags": []
   },
   "outputs": [
    {
     "ename": "NameError",
     "evalue": "name 'X_train' is not defined",
     "output_type": "error",
     "traceback": [
      "\u001b[1;31m---------------------------------------------------------------------------\u001b[0m",
      "\u001b[1;31mNameError\u001b[0m                                 Traceback (most recent call last)",
      "\u001b[1;32mC:\\Users\\SOUFIA~1\\AppData\\Local\\Temp/ipykernel_16772/4045198137.py\u001b[0m in \u001b[0;36m<module>\u001b[1;34m\u001b[0m\n\u001b[0;32m      1\u001b[0m \u001b[1;32mimport\u001b[0m \u001b[0mpickle\u001b[0m\u001b[1;33m\u001b[0m\u001b[1;33m\u001b[0m\u001b[0m\n\u001b[0;32m      2\u001b[0m \u001b[0mmodel\u001b[0m \u001b[1;33m=\u001b[0m \u001b[0mRandomForestRegressor\u001b[0m\u001b[1;33m(\u001b[0m\u001b[1;33m)\u001b[0m\u001b[1;33m\u001b[0m\u001b[1;33m\u001b[0m\u001b[0m\n\u001b[1;32m----> 3\u001b[1;33m \u001b[0mmodel\u001b[0m\u001b[1;33m.\u001b[0m\u001b[0mfit\u001b[0m\u001b[1;33m(\u001b[0m\u001b[0mX_train\u001b[0m\u001b[1;33m,\u001b[0m \u001b[0my_train\u001b[0m\u001b[1;33m)\u001b[0m\u001b[1;33m\u001b[0m\u001b[1;33m\u001b[0m\u001b[0m\n\u001b[0m\u001b[0;32m      4\u001b[0m test_df[\"user_rating\"] = model.predict(\n\u001b[0;32m      5\u001b[0m     \u001b[0mtest_df\u001b[0m\u001b[1;33m.\u001b[0m\u001b[0mdrop\u001b[0m\u001b[1;33m(\u001b[0m\u001b[1;33m[\u001b[0m\u001b[1;34m\"user_name\"\u001b[0m\u001b[1;33m,\u001b[0m \u001b[1;34m\"user_rating\"\u001b[0m\u001b[1;33m]\u001b[0m\u001b[1;33m,\u001b[0m \u001b[0maxis\u001b[0m\u001b[1;33m=\u001b[0m\u001b[1;36m1\u001b[0m\u001b[1;33m)\u001b[0m\u001b[1;33m\u001b[0m\u001b[1;33m\u001b[0m\u001b[0m\n",
      "\u001b[1;31mNameError\u001b[0m: name 'X_train' is not defined"
     ]
    }
   ],
   "source": [
    "import pickle\n",
    "model = RandomForestRegressor()\n",
    "model.fit(X_train, y_train)\n",
    "test_df[\"user_rating\"] = model.predict(\n",
    "    test_df.drop([\"user_name\", \"user_rating\"], axis=1)\n",
    ")\n",
    "final_sub = test_df[[\"game_id\", \"user_rating\"]]\n",
    "final_sub = final_sub.rename(columns={\"user_rating\": \"rating\"})\n",
    "output = open('myfile.pkl', 'wb')\n",
    "pickle.dump(final_sub,output)\n",
    "final_sub.to_csv(\"submission.csv\", index=False)"
   ]
  },
  {
   "cell_type": "code",
   "execution_count": null,
   "id": "2c299de2",
   "metadata": {
    "papermill": {
     "duration": 0.007453,
     "end_time": "2023-01-03T08:55:13.015805",
     "exception": false,
     "start_time": "2023-01-03T08:55:13.008352",
     "status": "completed"
    },
    "tags": []
   },
   "outputs": [],
   "source": []
  },
  {
   "cell_type": "code",
   "execution_count": null,
   "id": "0f51d1fc",
   "metadata": {
    "papermill": {
     "duration": 0.007193,
     "end_time": "2023-01-03T08:55:13.030477",
     "exception": false,
     "start_time": "2023-01-03T08:55:13.023284",
     "status": "completed"
    },
    "tags": []
   },
   "outputs": [],
   "source": []
  },
  {
   "cell_type": "code",
   "execution_count": null,
   "id": "e7a04f53",
   "metadata": {
    "papermill": {
     "duration": 0.007084,
     "end_time": "2023-01-03T08:55:13.044950",
     "exception": false,
     "start_time": "2023-01-03T08:55:13.037866",
     "status": "completed"
    },
    "tags": []
   },
   "outputs": [],
   "source": []
  }
 ],
 "metadata": {
  "kernelspec": {
   "display_name": "Python 3 (ipykernel)",
   "language": "python",
   "name": "python3"
  },
  "language_info": {
   "codemirror_mode": {
    "name": "ipython",
    "version": 3
   },
   "file_extension": ".py",
   "mimetype": "text/x-python",
   "name": "python",
   "nbconvert_exporter": "python",
   "pygments_lexer": "ipython3",
   "version": "3.9.7"
  },
  "papermill": {
   "default_parameters": {},
   "duration": 69.679252,
   "end_time": "2023-01-03T08:55:13.873940",
   "environment_variables": {},
   "exception": null,
   "input_path": "__notebook__.ipynb",
   "output_path": "__notebook__.ipynb",
   "parameters": {},
   "start_time": "2023-01-03T08:54:04.194688",
   "version": "2.3.4"
  }
 },
 "nbformat": 4,
 "nbformat_minor": 5
}
